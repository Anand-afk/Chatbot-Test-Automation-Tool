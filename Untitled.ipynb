{
 "cells": [
  {
   "cell_type": "code",
   "execution_count": 6,
   "metadata": {},
   "outputs": [
    {
     "name": "stdout",
     "output_type": "stream",
     "text": [
      "sedvoces.\n"
     ]
    }
   ],
   "source": [
    "import random # random typos\n",
    "\n",
    "message = \"services.\"\n",
    "\n",
    "# convert the message to a list of characters\n",
    "message = list(message)\n",
    "\n",
    "typo_prob = 0.2 # percent (out of 1.0) of characters to become typos\n",
    "\n",
    "# the number of characters that will be typos\n",
    "n_chars_to_flip = round(len(message) * typo_prob)\n",
    "# is a letter capitalized?\n",
    "capitalization = [False] * len(message)\n",
    "# make all characters lowercase & record uppercase\n",
    "for i in range(len(message)):\n",
    "    capitalization[i] = message[i].isupper()\n",
    "    message[i] = message[i].lower()\n",
    "\n",
    "# list of characters that will be flipped\n",
    "pos_to_flip = []\n",
    "for i in range(n_chars_to_flip):\n",
    "    pos_to_flip.append(random.randint(0, len(message) - 1))\n",
    "\n",
    "# dictionary... for each letter list of letters\n",
    "# nearby on the keyboard\n",
    "nearbykeys = {\n",
    "    'a': ['q','w','s','x','z'],\n",
    "    'b': ['v','g','h','n'],\n",
    "    'c': ['x','d','f','v'],\n",
    "    'd': ['s','e','r','f','c','x'],\n",
    "    'e': ['w','s','d','r'],\n",
    "    'f': ['d','r','t','g','v','c'],\n",
    "    'g': ['f','t','y','h','b','v'],\n",
    "    'h': ['g','y','u','j','n','b'],\n",
    "    'i': ['u','j','k','o'],\n",
    "    'j': ['h','u','i','k','n','m'],\n",
    "    'k': ['j','i','o','l','m'],\n",
    "    'l': ['k','o','p'],\n",
    "    'm': ['n','j','k','l'],\n",
    "    'n': ['b','h','j','m'],\n",
    "    'o': ['i','k','l','p'],\n",
    "    'p': ['o','l'],\n",
    "    'q': ['w','a','s'],\n",
    "    'r': ['e','d','f','t'],\n",
    "    's': ['w','e','d','x','z','a'],\n",
    "    't': ['r','f','g','y'],\n",
    "    'u': ['y','h','j','i'],\n",
    "    'v': ['c','f','g','v','b'],\n",
    "    'w': ['q','a','s','e'],\n",
    "    'x': ['z','s','d','c'],\n",
    "    'y': ['t','g','h','u'],\n",
    "    'z': ['a','s','x'],\n",
    "    ' ': ['c','v','b','n','m']\n",
    "}\n",
    "\n",
    "# insert typos\n",
    "for pos in pos_to_flip:\n",
    "    # try-except in case of special characters\n",
    "    try:\n",
    "        typo_arrays = nearbykeys[message[pos]]\n",
    "        message[pos] = random.choice(typo_arrays)\n",
    "    except:\n",
    "        break\n",
    "\n",
    "# reinsert capitalization\n",
    "for i in range(len(message)):\n",
    "    if (capitalization[i]):\n",
    "        message[i] = message[i].upper()\n",
    "\n",
    "# recombine the message into a string\n",
    "message = ''.join(message)\n",
    "\n",
    "# show the message in the console\n",
    "print(message)"
   ]
  },
  {
   "cell_type": "code",
   "execution_count": null,
   "metadata": {},
   "outputs": [],
   "source": []
  },
  {
   "cell_type": "code",
   "execution_count": null,
   "metadata": {},
   "outputs": [],
   "source": []
  }
 ],
 "metadata": {
  "kernelspec": {
   "display_name": "Python 3",
   "language": "python",
   "name": "python3"
  },
  "language_info": {
   "codemirror_mode": {
    "name": "ipython",
    "version": 3
   },
   "file_extension": ".py",
   "mimetype": "text/x-python",
   "name": "python",
   "nbconvert_exporter": "python",
   "pygments_lexer": "ipython3",
   "version": "3.8.5"
  }
 },
 "nbformat": 4,
 "nbformat_minor": 4
}
